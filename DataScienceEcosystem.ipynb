{
  "metadata": {
    "kernelspec": {
      "name": "python",
      "display_name": "Python (Pyodide)",
      "language": "python"
    },
    "language_info": {
      "codemirror_mode": {
        "name": "python",
        "version": 3
      },
      "file_extension": ".py",
      "mimetype": "text/x-python",
      "name": "python",
      "nbconvert_exporter": "python",
      "pygments_lexer": "ipython3",
      "version": "3.8"
    }
  },
  "nbformat_minor": 4,
  "nbformat": 4,
  "cells": [
    {
      "cell_type": "markdown",
      "source": "# Data Science Tools and Ecosystem",
      "metadata": {
        "tags": [],
        "editable": true,
        "slideshow": {
          "slide_type": ""
        }
      }
    },
    {
      "cell_type": "markdown",
      "source": "# Exercise 3\nIn this notebook, Data Science Tools and Ecosystems are summarized. ",
      "metadata": {}
    },
    {
      "cell_type": "markdown",
      "source": "# Exercise 10\n**Objectives:**\n- List popular languages for Data Science.\n- Explore commonly used libraries in Data Science. \n- Understand the role of development environment tools in Data Science.",
      "metadata": {}
    },
    {
      "cell_type": "markdown",
      "source": "# Exercise 4\nSome of the popular languages that Data Scientists use are: \n1. Python\n2. R\n3. SQL\n4. Julia\n5. Scala",
      "metadata": {}
    },
    {
      "cell_type": "markdown",
      "source": "# Exercise 5\nSome of the commonly used libraries used by Data Scientists include: \n1. NumPy\n2. Pandas\n3. Scikit-learn\n4. Matplotlib\n5. TensorFlow\n6. Keras\n7. PyTorch",
      "metadata": {}
    },
    {
      "cell_type": "markdown",
      "source": "# Exercise 6\n|Data Science Tools  |\n|--------------------|\n|Jupyter Notebook    |\n|RStudio             |\n|Apache Zeppelin     |",
      "metadata": {}
    },
    {
      "cell_type": "markdown",
      "source": "# Exercise 7\n### Below are a few examples of evaluating arithmetic expressions in Python\n",
      "metadata": {}
    },
    {
      "cell_type": "code",
      "source": "# Exercise 8 \n# This is a simple arithmetic expression to multiply then add integers\n\n(3*4)+5",
      "metadata": {
        "trusted": true,
        "jupyter": {
          "outputs_hidden": true
        },
        "collapsed": true,
        "tags": [],
        "editable": true,
        "slideshow": {
          "slide_type": ""
        }
      },
      "outputs": [
        {
          "execution_count": 5,
          "output_type": "execute_result",
          "data": {
            "text/plain": "17"
          },
          "metadata": {}
        }
      ],
      "execution_count": 5
    },
    {
      "cell_type": "code",
      "source": "# Exercise 9 \n#This will convert 200 minutes to hours by dividing by 60\n\n(1/60)*200\n",
      "metadata": {
        "trusted": true,
        "jupyter": {
          "outputs_hidden": true
        },
        "collapsed": true
      },
      "outputs": [
        {
          "execution_count": 4,
          "output_type": "execute_result",
          "data": {
            "text/plain": "3.3333333333333335"
          },
          "metadata": {}
        }
      ],
      "execution_count": 4
    },
    {
      "cell_type": "markdown",
      "source": "# Exercise 11\n## Author\nEliza Barranco",
      "metadata": {
        "tags": [],
        "editable": true,
        "slideshow": {
          "slide_type": ""
        }
      }
    },
    {
      "cell_type": "code",
      "source": "",
      "metadata": {
        "trusted": true
      },
      "outputs": [],
      "execution_count": null
    }
  ]
}